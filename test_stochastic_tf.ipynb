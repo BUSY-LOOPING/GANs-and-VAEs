{
 "cells": [
  {
   "cell_type": "code",
   "execution_count": 20,
   "id": "31c4b156-7dac-4519-bd55-96b6440c27d3",
   "metadata": {},
   "outputs": [
    {
     "name": "stdout",
     "output_type": "stream",
     "text": [
      "Mean: -0.07923188805580139\n",
      "Std Dev: 2.0404980182647705\n"
     ]
    },
    {
     "data": {
      "image/png": "[encoded data removed]",
      "text/plain": [
       "<Figure size 640x480 with 1 Axes>"
      ]
     },
     "metadata": {},
     "output_type": "display_data"
    }
   ],
   "source": [
    "import numpy as np\n",
    "import matplotlib.pyplot as plt\n",
    "import tensorflow as tf\n",
    "import tensorflow_probability as tfp\n",
    "\n",
    "tfd = tfp.distributions\n",
    "tfb = tfp.bijectors\n",
    "\n",
    "dtype = tf.float32 # Set the data type to float32\n",
    "\n",
    "# Define the target distribution\n",
    "target = tfd.Normal(loc=0., scale=1.)\n",
    "\n",
    "# Define the bijector\n",
    "bijector = tfb.Scale(scale=2.)\n",
    "\n",
    "# Define the transformed distribution\n",
    "transformed_distribution = tfd.TransformedDistribution(\n",
    "    distribution=target,\n",
    "    bijector=bijector\n",
    ")\n",
    "\n",
    "# Define the initial state\n",
    "init_state = np.float32([1.])\n",
    "\n",
    "# Define the number of samples to generate\n",
    "num_samples = 1000\n",
    "\n",
    "# Define the Markov chain Monte Carlo step size\n",
    "step_size = 0.5\n",
    "\n",
    "# Define the kernel function\n",
    "unnormalized_kernel = lambda x: transformed_distribution.log_prob(x)\n",
    "kernel = tfp.mcmc.HamiltonianMonteCarlo(\n",
    "    target_log_prob_fn=unnormalized_kernel,\n",
    "    step_size=step_size,\n",
    "    num_leapfrog_steps=3\n",
    ")\n",
    "\n",
    "# Define the Markov chain Monte Carlo sampler\n",
    "sampler = tfp.mcmc.TransformedTransitionKernel(\n",
    "    inner_kernel=kernel,\n",
    "    bijector=bijector\n",
    ")\n",
    "\n",
    "# Define the initial state of the chain\n",
    "state = tf.convert_to_tensor(init_state, dtype=dtype)\n",
    "\n",
    "# Generate the Markov chain Monte Carlo samples\n",
    "samples = tfp.mcmc.sample_chain(\n",
    "    num_results=num_samples,\n",
    "    current_state=state,\n",
    "    kernel=sampler,\n",
    "    num_burnin_steps=100,\n",
    "    trace_fn=None\n",
    ")\n",
    "\n",
    "# Print the mean and standard deviation of the samples\n",
    "print('Mean: {}'.format(tf.reduce_mean(samples).numpy()))\n",
    "print('Std Dev: {}'.format(tf.math.reduce_std(samples).numpy()))\n",
    "\n",
    "# Plot the samples\n",
    "plt.hist(samples.numpy().flatten(), bins=20)\n",
    "plt.show()\n"
   ]
  },
  {
   "cell_type": "code",
   "execution_count": 3,
   "id": "58c1ef5a-8021-4593-be8a-a1cc420ffb45",
   "metadata": {},
   "outputs": [
    {
     "data": {
      "text/plain": [
       "'2.11.0'"
      ]
     },
     "execution_count": 3,
     "metadata": {},
     "output_type": "execute_result"
    }
   ],
   "source": [
    "tf.__version__"
   ]
  },
  {
   "cell_type": "code",
   "execution_count": null,
   "id": "f7039715-e2bd-44d4-8223-7083a39edd98",
   "metadata": {},
   "outputs": [],
   "source": []
  }
 ],
 "metadata": {
  "kernelspec": {
   "display_name": "venv",
   "language": "python",
   "name": "venv"
  },
  "language_info": {
   "codemirror_mode": {
    "name": "ipython",
    "version": 3
   },
   "file_extension": ".py",
   "mimetype": "text/x-python",
   "name": "python",
   "nbconvert_exporter": "python",
   "pygments_lexer": "ipython3",
   "version": "3.9.4"
  }
 },
 "nbformat": 4,
 "nbformat_minor": 5
}
